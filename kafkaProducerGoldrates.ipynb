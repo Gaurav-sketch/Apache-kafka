{
 "cells": [
  {
   "cell_type": "code",
   "execution_count": 9,
   "metadata": {},
   "outputs": [],
   "source": [
    "import sys\n",
    "#!{sys.executable} -m pip install kafka-python"
   ]
  },
  {
   "cell_type": "code",
   "execution_count": 10,
   "metadata": {},
   "outputs": [],
   "source": [
    "import time\n",
    "import json\n",
    "from json import dumps\n",
    "from kafka import KafkaProducer\n",
    "from time import sleep\n",
    "import requests as req"
   ]
  },
  {
   "cell_type": "code",
   "execution_count": 11,
   "metadata": {},
   "outputs": [],
   "source": [
    "ticker_url=\"https://forex-data-feed.swissquote.com/public-quotes/bboquotes/instrument/XAU/USD\"\n",
    "brokers='localhost:9092'\n",
    "topic='Goldrates'\n",
    "sleep_time=300"
   ]
  },
  {
   "cell_type": "code",
   "execution_count": 12,
   "metadata": {},
   "outputs": [],
   "source": [
    "producer = KafkaProducer(bootstrap_servers=[brokers],value_serializer=lambda x: dumps(x).encode('utf-8'))"
   ]
  },
  {
   "cell_type": "code",
   "execution_count": null,
   "metadata": {},
   "outputs": [
    {
     "name": "stdout",
     "output_type": "stream",
     "text": [
      "Getting new data...\n",
      "Getting new data...\n",
      "Getting new data...\n",
      "Getting new data...\n",
      "Getting new data...\n",
      "Getting new data...\n"
     ]
    }
   ],
   "source": [
    "while(True):\n",
    "    print(\"Getting new data...\")\n",
    "    resp = req.get(ticker_url)\n",
    "    json_data = json.loads(resp.text)\n",
    "    producer.send(topic, json_data)\n",
    "    time.sleep(sleep_time)"
   ]
  },
  {
   "cell_type": "code",
   "execution_count": null,
   "metadata": {},
   "outputs": [],
   "source": []
  }
 ],
 "metadata": {
  "kernelspec": {
   "display_name": "Python 3",
   "language": "python",
   "name": "python3"
  },
  "language_info": {
   "codemirror_mode": {
    "name": "ipython",
    "version": 3
   },
   "file_extension": ".py",
   "mimetype": "text/x-python",
   "name": "python",
   "nbconvert_exporter": "python",
   "pygments_lexer": "ipython3",
   "version": "3.7.6"
  }
 },
 "nbformat": 4,
 "nbformat_minor": 4
}
